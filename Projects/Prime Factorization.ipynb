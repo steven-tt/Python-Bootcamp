{
 "cells": [
  {
   "cell_type": "code",
   "execution_count": 3,
   "metadata": {},
   "outputs": [],
   "source": [
    "def is_prime(n):\n",
    "    '''\n",
    "    This tests if the number n is prime\n",
    "    '''\n",
    "    if n <= 1:\n",
    "        return False\n",
    "    if n % 2 == 0 and n > 2:\n",
    "        return False\n",
    "    for divisor in range(3, int(n ** (1/2)) + 1, 2):\n",
    "        if n % divisor == 0:\n",
    "            return False\n",
    "    return True\n",
    "\n",
    "def gen_prime(n):\n",
    "    '''\n",
    "    This is a generator the generates primes up to the number n primes up to a number n\n",
    "    '''\n",
    "    for i in range(2, n + 1):\n",
    "        if is_prime(i):\n",
    "            yield i\n",
    "\n",
    "def prime_factors1(n):\n",
    "    '''\n",
    "    This returns a list of prime factors for the number n\n",
    "    '''\n",
    "    primes = []\n",
    "    for i in gen_prime(int(n ** (1/2)) + 1):\n",
    "        if n % i == 0:\n",
    "            primes.append(i)\n",
    "    return primes\n",
    "\n",
    "# def prime_factors2(n):\n",
    "#     max_factor = int(n**(1/2)) + 1\n",
    "#     for i in range(max_factor):\n",
    "#         if n % i == 0:\n",
    "#             yield "
   ]
  },
  {
   "cell_type": "code",
   "execution_count": null,
   "metadata": {},
   "outputs": [],
   "source": []
  }
 ],
 "metadata": {
  "kernelspec": {
   "display_name": "Python 3",
   "language": "python",
   "name": "python3"
  },
  "language_info": {
   "codemirror_mode": {
    "name": "ipython",
    "version": 3
   },
   "file_extension": ".py",
   "mimetype": "text/x-python",
   "name": "python",
   "nbconvert_exporter": "python",
   "pygments_lexer": "ipython3",
   "version": "3.7.0"
  }
 },
 "nbformat": 4,
 "nbformat_minor": 2
}
